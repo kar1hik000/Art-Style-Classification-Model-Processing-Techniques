{
 "cells": [
  {
   "cell_type": "markdown",
   "metadata": {},
   "source": [
    "512 Features Before PCA"
   ]
  },
  {
   "cell_type": "code",
   "execution_count": 1,
   "metadata": {},
   "outputs": [],
   "source": [
    "import numpy as np\n",
    "import pandas as pd\n",
    "\n",
    "# Load the .npy file\n",
    "array = np.load('Lab04\\extracted_features.npy')\n",
    "\n",
    "# Convert the array to a DataFrame\n",
    "df = pd.DataFrame(array)\n",
    "\n",
    "# Save the DataFrame to a CSV file\n",
    "df.to_csv('512_features.csv', index=False)"
   ]
  },
  {
   "cell_type": "code",
   "execution_count": 1,
   "metadata": {},
   "outputs": [],
   "source": [
    "import numpy as np\n",
    "import pandas as pd\n",
    "\n",
    "# Load the .npy file\n",
    "array = np.load('Lab04\\labels.npy')\n",
    "\n",
    "# Convert the array to a DataFrame\n",
    "df = pd.DataFrame(array)\n",
    "\n",
    "# Save the DataFrame to a CSV file\n",
    "df.to_csv('512_labels.csv', index=False)"
   ]
  },
  {
   "cell_type": "markdown",
   "metadata": {},
   "source": [
    "4096 Features Before PCA"
   ]
  },
  {
   "cell_type": "code",
   "execution_count": 2,
   "metadata": {},
   "outputs": [],
   "source": [
    "import numpy as np\n",
    "import pandas as pd\n",
    "\n",
    "# Load the .npy file\n",
    "array = np.load('features_4096.npy')\n",
    "\n",
    "# Convert the array to a DataFrame\n",
    "df = pd.DataFrame(array)\n",
    "\n",
    "# Save the DataFrame to a CSV file\n",
    "df.to_csv('4096_features.csv', index=False)"
   ]
  },
  {
   "cell_type": "code",
   "execution_count": 2,
   "metadata": {},
   "outputs": [],
   "source": [
    "import numpy as np\n",
    "import pandas as pd\n",
    "\n",
    "# Load the .npy file\n",
    "array = np.load('labels_4096.npy')\n",
    "\n",
    "# Convert the array to a DataFrame\n",
    "df = pd.DataFrame(array)\n",
    "\n",
    "# Save the DataFrame to a CSV file\n",
    "df.to_csv('4096_labels.csv', index=False)"
   ]
  },
  {
   "cell_type": "markdown",
   "metadata": {},
   "source": [
    "512 Features After PCA"
   ]
  },
  {
   "cell_type": "code",
   "execution_count": 3,
   "metadata": {},
   "outputs": [],
   "source": [
    "import numpy as np\n",
    "import pandas as pd\n",
    "\n",
    "# Load the .npy file\n",
    "array = np.load('Reduced 512\\Features_reduced.npy')\n",
    "\n",
    "# Convert the array to a DataFrame\n",
    "df = pd.DataFrame(array)\n",
    "\n",
    "# Save the DataFrame to a CSV file\n",
    "df.to_csv('512_PCA_features.csv', index=False)"
   ]
  },
  {
   "cell_type": "code",
   "execution_count": 3,
   "metadata": {},
   "outputs": [],
   "source": [
    "import numpy as np\n",
    "import pandas as pd\n",
    "\n",
    "# Load the .npy file\n",
    "array = np.load('Reduced 512\\Labels_reduced.npy')\n",
    "\n",
    "# Convert the array to a DataFrame\n",
    "df = pd.DataFrame(array)\n",
    "\n",
    "# Save the DataFrame to a CSV file\n",
    "df.to_csv('512_PCA_labels.csv', index=False)"
   ]
  },
  {
   "cell_type": "markdown",
   "metadata": {},
   "source": [
    "4096 Features After PCA"
   ]
  },
  {
   "cell_type": "code",
   "execution_count": 4,
   "metadata": {},
   "outputs": [],
   "source": [
    "import numpy as np\n",
    "import pandas as pd\n",
    "\n",
    "# Load the .npy file\n",
    "array = np.load('Reduced 4096//reduced_features.npy')\n",
    "\n",
    "# Convert the array to a DataFrame\n",
    "df = pd.DataFrame(array)\n",
    "\n",
    "# Save the DataFrame to a CSV file\n",
    "df.to_csv('4096_PCA_features.csv', index=False)"
   ]
  },
  {
   "cell_type": "code",
   "execution_count": 4,
   "metadata": {},
   "outputs": [],
   "source": [
    "import numpy as np\n",
    "import pandas as pd\n",
    "\n",
    "# Load the .npy file\n",
    "array = np.load('Reduced 4096//reduced_labels.npy')\n",
    "\n",
    "# Convert the array to a DataFrame\n",
    "df = pd.DataFrame(array)\n",
    "\n",
    "# Save the DataFrame to a CSV file\n",
    "df.to_csv('4096_PCA_labels.csv', index=False)"
   ]
  }
 ],
 "metadata": {
  "kernelspec": {
   "display_name": "Python 3",
   "language": "python",
   "name": "python3"
  },
  "language_info": {
   "codemirror_mode": {
    "name": "ipython",
    "version": 3
   },
   "file_extension": ".py",
   "mimetype": "text/x-python",
   "name": "python",
   "nbconvert_exporter": "python",
   "pygments_lexer": "ipython3",
   "version": "3.11.9"
  }
 },
 "nbformat": 4,
 "nbformat_minor": 2
}
